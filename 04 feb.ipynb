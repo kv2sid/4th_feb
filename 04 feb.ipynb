{
 "cells": [
  {
   "cell_type": "markdown",
   "id": "8117f5e9-657b-43d4-aaf6-f571761ebdd3",
   "metadata": {},
   "source": [
    "Q1. Create a python program to sort the given list of tuples based on integer value using a\n",
    "lambda function."
   ]
  },
  {
   "cell_type": "code",
   "execution_count": 22,
   "id": "66d5ebf0-6840-4f71-8057-0cf482a9405e",
   "metadata": {},
   "outputs": [
    {
     "name": "stdout",
     "output_type": "stream",
     "text": [
      "original list:  [('Virat Kohli', 24936), ('Jack Kallis', 25534), ('Ricky Ponting', 27483), ('Sachin Tendulkar', 34357)]\n"
     ]
    }
   ],
   "source": [
    "## sort list of the given python \n",
    "lst = [('Sachin Tendulkar', 34357), ('Ricky Ponting', 27483), ('Jack Kallis', 25534), ('Virat Kohli', 24936)]\n",
    "lst1 = sorted(lst, key = lambda x : x[1])\n",
    "print(\"original list: \", lst1)\n"
   ]
  },
  {
   "cell_type": "markdown",
   "id": "2bc2ac22-1dd2-49a8-9ee1-fe9cb830718c",
   "metadata": {},
   "source": [
    "Q2. Write a Python Program to find the squares of all the numbers in the given list of integers using\n",
    "lambda and map functions."
   ]
  },
  {
   "cell_type": "code",
   "execution_count": 4,
   "id": "6fe62550-8e90-4095-ad1e-766926f2300b",
   "metadata": {},
   "outputs": [
    {
     "name": "stdout",
     "output_type": "stream",
     "text": [
      "[1, 4, 9, 16, 25, 36, 49, 64, 81, 100]\n"
     ]
    }
   ],
   "source": [
    "lst2 = [1, 2, 3, 4, 5, 6, 7, 8, 9, 10]\n",
    "lst3 = map(lambda x : x**2, lst2)\n",
    "print(list(lst3))"
   ]
  },
  {
   "cell_type": "markdown",
   "id": "3ed6cda0-8eed-41eb-8dcf-ad221c2905f8",
   "metadata": {},
   "source": [
    "Q3. Write a python program to convert the given list of integers into a tuple of strings. Use map and\n",
    "lambda functions"
   ]
  },
  {
   "cell_type": "code",
   "execution_count": 42,
   "id": "3c469647-8c62-4bed-ab89-27673d62ae9e",
   "metadata": {},
   "outputs": [
    {
     "name": "stdout",
     "output_type": "stream",
     "text": [
      "('1', '2', '3', '4', '5', '6', '7', '8', '9', '10')\n"
     ]
    }
   ],
   "source": [
    "## convert following tuple into list\n",
    "lst4 = [1, 2, 3, 4, 5, 6, 7, 8, 9, 10]\n",
    "tup1 =tuple(map(lambda x : str(x) , lst4))\n",
    "print(tuple(tup1))"
   ]
  },
  {
   "cell_type": "markdown",
   "id": "515c3f37-1977-49ed-af44-045a7d75e9f3",
   "metadata": {},
   "source": [
    "Q4. Write a python program using reduce function to compute the product of a list containing numbers\n",
    "from 1 to 25."
   ]
  },
  {
   "cell_type": "code",
   "execution_count": 52,
   "id": "5994b35d-610d-4232-8d76-df2dc337a1de",
   "metadata": {},
   "outputs": [
    {
     "name": "stdout",
     "output_type": "stream",
     "text": [
      "lst5 =  [1, 2, 3, 4, 5, 6, 7, 8, 9, 10, 11, 12, 13, 14, 15, 16, 17, 18, 19, 20, 21, 22, 23, 24, 25]\n",
      "Multiplication of lst5 =  15511210043330985984000000\n"
     ]
    }
   ],
   "source": [
    "## compute following list product.\n",
    "lst5 = list(range (1,26))\n",
    "print('lst5 = ' ,lst5)\n",
    "import functools\n",
    "print('Multiplication of lst5 = ',functools.reduce(lambda x, y : x*y , lst5))"
   ]
  },
  {
   "cell_type": "markdown",
   "id": "edeff326-c7b6-4bd2-a1a4-35fa62ba4802",
   "metadata": {},
   "source": [
    "Q5. Write a python program to filter the numbers in a given list that are divisible by 2 and 3 using the\n",
    "filter function.\n",
    "[2, 3, 6, 9, 27, 60, 90, 120, 55, 46]"
   ]
  },
  {
   "cell_type": "code",
   "execution_count": 62,
   "id": "6546e379-7f76-4451-8631-c4e502b05f97",
   "metadata": {},
   "outputs": [
    {
     "name": "stdout",
     "output_type": "stream",
     "text": [
      "[2, 3, 6, 9, 27, 60, 90, 120, 46]\n"
     ]
    }
   ],
   "source": [
    "## find the number in the following list that is divisible by 2 and 3.\n",
    "lst6 = [2, 3, 6, 9, 27, 60, 90, 120, 55, 46]\n",
    "lst7 = list(filter(lambda x : x%2 == 0 or x%3 == 0, lst6))\n",
    "print(lst7)"
   ]
  },
  {
   "cell_type": "markdown",
   "id": "9a633d87-f63f-4331-872a-5ce5340f4ccb",
   "metadata": {},
   "source": [
    "Q6. Write a python program to find palindromes in the given list of strings using lambda and filter\n",
    "function."
   ]
  },
  {
   "cell_type": "code",
   "execution_count": 88,
   "id": "22d000b0-99a7-46b2-894c-9c819efe344b",
   "metadata": {},
   "outputs": [
    {
     "name": "stdout",
     "output_type": "stream",
     "text": [
      "['php', 'aba', 'radar', 'level']\n"
     ]
    }
   ],
   "source": [
    "## from following list find pallindromes\n",
    "lst8 = ['python', 'php', 'aba', 'radar', 'level']\n",
    "lst9 = list(filter(lambda x : (x == ''.join(reversed(x))), lst8))\n",
    "print(lst9)"
   ]
  },
  {
   "cell_type": "code",
   "execution_count": null,
   "id": "cb7477c7-ecf2-4996-8094-6ebccbd12f23",
   "metadata": {},
   "outputs": [],
   "source": []
  },
  {
   "cell_type": "code",
   "execution_count": null,
   "id": "2ebcc8f7-30bb-4de8-9b5b-5f4f158dfecf",
   "metadata": {},
   "outputs": [],
   "source": []
  },
  {
   "cell_type": "code",
   "execution_count": null,
   "id": "d1bbfb1d-cd9e-4c12-86e0-af464fda4979",
   "metadata": {},
   "outputs": [],
   "source": []
  },
  {
   "cell_type": "code",
   "execution_count": null,
   "id": "7891025d-8035-4fb1-8bd5-758e0673b7c0",
   "metadata": {},
   "outputs": [],
   "source": []
  },
  {
   "cell_type": "code",
   "execution_count": null,
   "id": "eb04c4ea-e80e-4bdc-98ae-cd07b696fdd9",
   "metadata": {},
   "outputs": [],
   "source": []
  },
  {
   "cell_type": "code",
   "execution_count": null,
   "id": "90f42b7d-46a2-411a-89e1-3e2fcdad4a73",
   "metadata": {},
   "outputs": [],
   "source": []
  }
 ],
 "metadata": {
  "kernelspec": {
   "display_name": "Python 3 (ipykernel)",
   "language": "python",
   "name": "python3"
  },
  "language_info": {
   "codemirror_mode": {
    "name": "ipython",
    "version": 3
   },
   "file_extension": ".py",
   "mimetype": "text/x-python",
   "name": "python",
   "nbconvert_exporter": "python",
   "pygments_lexer": "ipython3",
   "version": "3.10.8"
  }
 },
 "nbformat": 4,
 "nbformat_minor": 5
}
